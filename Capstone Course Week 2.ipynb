{
 "cells": [
  {
   "cell_type": "markdown",
   "metadata": {},
   "source": [
    "# Capstone Project: Week 2"
   ]
  },
  {
   "cell_type": "markdown",
   "metadata": {},
   "source": [
    "### Introduction/Business Problem"
   ]
  },
  {
   "cell_type": "markdown",
   "metadata": {},
   "source": [
    "Car collision is one of the leading causes of premature death in countries all around the globe. Different factors, many preventable, play parts in how severe car accidents are. This project will explore which factors are most associated with fatal collisions, and with that, provide recommendations on what can be done from a city design and policy perspective to minimize the severity of car collisions."
   ]
  },
  {
   "cell_type": "markdown",
   "metadata": {},
   "source": [
    "### Data "
   ]
  },
  {
   "cell_type": "markdown",
   "metadata": {},
   "source": [
    "Data on measurable factors related to car accidents, along with the severity of said accidents, are required to assess what affects the severity of car accidents. It would also be beneficial for data on accidents to cover a variety of different scenarios and locations as this would allow many different factors to be under assessment. \n",
    "With these requirements, the Seattle Traffic Records is to be used as it satisfies the previously mentioned conditions and provides a large dataset for analyses to be conducted. \n"
   ]
  }
 ],
 "metadata": {
  "kernelspec": {
   "display_name": "Python 3",
   "language": "python",
   "name": "python3"
  },
  "language_info": {
   "codemirror_mode": {
    "name": "ipython",
    "version": 3
   },
   "file_extension": ".py",
   "mimetype": "text/x-python",
   "name": "python",
   "nbconvert_exporter": "python",
   "pygments_lexer": "ipython3",
   "version": "3.7.4"
  }
 },
 "nbformat": 4,
 "nbformat_minor": 2
}
